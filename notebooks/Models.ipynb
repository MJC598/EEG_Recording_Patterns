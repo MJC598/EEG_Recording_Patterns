{
 "cells": [
  {
   "cell_type": "code",
   "execution_count": 2,
   "metadata": {},
   "outputs": [],
   "source": [
    "import torch, torchvision\n",
    "import pandas as pds\n",
    "import numpy as np\n",
    "import os, time, copy\n",
    "import matplotlib.pyplot as plt"
   ]
  },
  {
   "cell_type": "markdown",
   "metadata": {},
   "source": [
    "### Data Formats\n",
    "* Input: (lag, 135 * (262/lag), freq)\n",
    "    * 135: Number of participants\n",
    "    * 262: Feedback onset time (timestep 888 - timestep 626)\n",
    "    * lag: lag time hyperparameter\n",
    "    * freq: frequencies hyperparameter chosen for number of samples\n",
    "    \n",
    "* Output: (lag, 135 * (262/lag), 4)\n",
    "    * same values for a single batch\n",
    "    * 4 theta bands (4, 5, 6, 7)\n",
    "    \n",
    "* LNR evoked data\n",
    "    * FC1\n",
    "    * FC2"
   ]
  },
  {
   "cell_type": "markdown",
   "metadata": {},
   "source": [
    "### Model Architectures\n",
    "* LSTM\n",
    "* RNN\n",
    "* GRU"
   ]
  },
  {
   "cell_type": "code",
   "execution_count": null,
   "metadata": {},
   "outputs": [],
   "source": [
    "PATH_TO_DATA = '/home/matt/eeg_data/power'\n",
    "inputs = pds.load_csv(PATH_TO_DATA).to_numpy()\n",
    "\n",
    "lag = 5\n",
    "batch_size = 135*(262/lag)\n",
    "freq = 5\n",
    "hidden_size = 20\n",
    "num_layers = 1\n",
    "output_bands = 4\n",
    "hidden_state = torch.randn(num_layers, batch_size, hidden_size)\n",
    "cell_state = torch.randn(num_layers, batch_size, hidden_size)"
   ]
  },
  {
   "cell_type": "code",
   "execution_count": null,
   "metadata": {},
   "outputs": [],
   "source": [
    "\"\"\"\n",
    "LSTM\n",
    "\"\"\"\n",
    "lstm = torch.nn.LSTM(freq, hidden_size, num_layers)\n",
    "l_output, (l_hn, l_cn) = lstm(inputs, (hidden_state, cell_state))\n",
    "l_fcc = torch.nn.Linear(l_output.shape[0], output_bands)\n",
    "print(l_fcc)"
   ]
  },
  {
   "cell_type": "code",
   "execution_count": null,
   "metadata": {},
   "outputs": [],
   "source": [
    "\"\"\"\n",
    "RNN\n",
    "\"\"\"\n",
    "rnn = torch.nn.RNN(freq, hidden_size, num_layers)\n",
    "r_output, r_hn = rnn(inputs, hidden_state)\n",
    "r_fcc = torch.nn.Linear(r_output.shape[0], output_bands)\n",
    "print(r_fcc)"
   ]
  },
  {
   "cell_type": "code",
   "execution_count": null,
   "metadata": {},
   "outputs": [],
   "source": [
    "\"\"\"\n",
    "GRU\n",
    "\"\"\"\n",
    "gru = torch.nn.GRU(freq, hidden_size, num_layers)\n",
    "g_output, g_hn = gru(inputs, hidden_state)\n",
    "g_fcc = torch.nn.Linear(r_output.shape[0], output_bands)\n",
    "print(g_fcc)"
   ]
  }
 ],
 "metadata": {
  "kernelspec": {
   "display_name": "Python 3",
   "language": "python",
   "name": "python3"
  },
  "language_info": {
   "codemirror_mode": {
    "name": "ipython",
    "version": 3
   },
   "file_extension": ".py",
   "mimetype": "text/x-python",
   "name": "python",
   "nbconvert_exporter": "python",
   "pygments_lexer": "ipython3",
   "version": "3.8.5"
  }
 },
 "nbformat": 4,
 "nbformat_minor": 4
}
